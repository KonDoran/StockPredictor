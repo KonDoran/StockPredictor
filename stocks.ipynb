{
 "cells": [
  {
   "cell_type": "code",
   "id": "initial_id",
   "metadata": {
    "collapsed": true,
    "ExecuteTime": {
     "end_time": "2024-09-11T13:53:08.783193Z",
     "start_time": "2024-09-11T13:53:05.277985Z"
    }
   },
   "source": [
    "import pandas as pd\n",
    "import numpy as np\n",
    "import matplotlib.pyplot as plt\n",
    "from sklearn.preprocessing import MinMaxScaler\n",
    "from sklearn.model_selection import train_test_split\n",
    "import tensorflow as tf\n",
    "from tensorflow.keras.models import Sequential\n",
    "from tensorflow.keras.layers import Dense, LSTM"
   ],
   "outputs": [],
   "execution_count": 1
  },
  {
   "metadata": {
    "ExecuteTime": {
     "end_time": "2024-09-11T13:53:48.807681Z",
     "start_time": "2024-09-11T13:53:48.775152Z"
    }
   },
   "cell_type": "code",
   "source": [
    "df = pd.read_csv('NVDA.csv', parse_dates=['Date'], index_col='Date')\n",
    "\n",
    "# Display the first few rows\n",
    "print(df.head())\n",
    "\n",
    "# Feature engineering: use historical prices to predict future prices\n",
    "df['Target'] = df['Close'].shift(-1)  # Predict the next day's closing price\n",
    "\n",
    "# Drop rows with NaN values (from shifting)\n",
    "df.dropna(inplace=True)\n",
    "\n",
    "# Select features and target\n",
    "features = df[['Close']].values\n",
    "target = df['Target'].values\n",
    "\n",
    "# Scale features\n",
    "scaler = MinMaxScaler()\n",
    "features_scaled = scaler.fit_transform(features)\n",
    "\n",
    "# Create sequences for LSTM input\n",
    "def create_sequences(data, target, seq_length):\n",
    "    X, y = [], []\n",
    "    for i in range(len(data) - seq_length):\n",
    "        X.append(data[i:i + seq_length])\n",
    "        y.append(target[i + seq_length])\n",
    "    return np.array(X), np.array(y)\n",
    "\n",
    "# Parameters\n",
    "SEQ_LENGTH = 10\n",
    "\n",
    "X, y = create_sequences(features_scaled, target, SEQ_LENGTH)\n",
    "\n",
    "# Split into training and test sets\n",
    "X_train, X_test, y_train, y_test = train_test_split(X, y, test_size=0.2, shuffle=False)"
   ],
   "id": "683a49f0f4b4034e",
   "outputs": [
    {
     "name": "stdout",
     "output_type": "stream",
     "text": [
      "                 Open       High        Low      Close  Adj Close     Volume\n",
      "Date                                                                        \n",
      "2023-08-29  46.666000  49.081001  46.390999  48.784000  48.769402  701397000\n",
      "2023-08-30  49.043999  49.926998  48.424999  49.264000  49.249252  735206000\n",
      "2023-08-31  49.380001  49.743999  48.958000  49.355000  49.340225  528570000\n",
      "2023-09-01  49.762001  49.799999  48.141998  48.508999  48.494484  463830000\n",
      "2023-09-05  48.223000  48.851002  47.860001  48.548000  48.533470  382653000\n"
     ]
    }
   ],
   "execution_count": 2
  },
  {
   "metadata": {
    "ExecuteTime": {
     "end_time": "2024-09-11T13:53:59.630942Z",
     "start_time": "2024-09-11T13:53:59.264108Z"
    }
   },
   "cell_type": "code",
   "source": [
    "# Build the LSTM model\n",
    "model = Sequential()\n",
    "model.add(LSTM(50, return_sequences=True, input_shape=(SEQ_LENGTH, 1)))\n",
    "model.add(LSTM(50))\n",
    "model.add(Dense(1))\n",
    "\n",
    "# Compile the model\n",
    "model.compile(optimizer='adam', loss='mean_squared_error')\n",
    "\n",
    "# Print model summary\n",
    "model.summary()\n"
   ],
   "id": "5db1d4b3b282253",
   "outputs": [
    {
     "name": "stdout",
     "output_type": "stream",
     "text": [
      "Model: \"sequential\"\n",
      "_________________________________________________________________\n",
      " Layer (type)                Output Shape              Param #   \n",
      "=================================================================\n",
      " lstm (LSTM)                 (None, 10, 50)            10400     \n",
      "                                                                 \n",
      " lstm_1 (LSTM)               (None, 50)                20200     \n",
      "                                                                 \n",
      " dense (Dense)               (None, 1)                 51        \n",
      "                                                                 \n",
      "=================================================================\n",
      "Total params: 30651 (119.73 KB)\n",
      "Trainable params: 30651 (119.73 KB)\n",
      "Non-trainable params: 0 (0.00 Byte)\n",
      "_________________________________________________________________\n"
     ]
    }
   ],
   "execution_count": 3
  },
  {
   "metadata": {
    "ExecuteTime": {
     "end_time": "2024-09-11T13:54:17.889168Z",
     "start_time": "2024-09-11T13:54:14.224521Z"
    }
   },
   "cell_type": "code",
   "source": [
    "# Train the model\n",
    "history = model.fit(X_train, y_train, epochs=10, batch_size=32, validation_split=0.1)\n",
    "\n",
    "# Plot training history\n",
    "plt.plot(history.history['loss'], label='Loss')\n",
    "plt.plot(history.history['val_loss'], label='Validation Loss')\n",
    "plt.xlabel('Epoch')\n",
    "plt.ylabel('Loss')\n",
    "plt.legend()\n",
    "plt.show()\n"
   ],
   "id": "ef8ae16715055db6",
   "outputs": [
    {
     "name": "stdout",
     "output_type": "stream",
     "text": [
      "Epoch 1/10\n",
      "6/6 [==============================] - 3s 113ms/step - loss: 4482.3774 - val_loss: 14163.2480\n",
      "Epoch 2/10\n",
      "6/6 [==============================] - 0s 9ms/step - loss: 4460.3325 - val_loss: 14057.0654\n",
      "Epoch 3/10\n",
      "6/6 [==============================] - 0s 9ms/step - loss: 4412.8784 - val_loss: 13797.6387\n",
      "Epoch 4/10\n",
      "6/6 [==============================] - 0s 9ms/step - loss: 4291.0869 - val_loss: 13295.3574\n",
      "Epoch 5/10\n",
      "6/6 [==============================] - 0s 9ms/step - loss: 4028.5698 - val_loss: 12864.6611\n",
      "Epoch 6/10\n",
      "6/6 [==============================] - 0s 9ms/step - loss: 3764.3989 - val_loss: 12561.9512\n",
      "Epoch 7/10\n",
      "6/6 [==============================] - 0s 9ms/step - loss: 3593.2153 - val_loss: 12353.5000\n",
      "Epoch 8/10\n",
      "6/6 [==============================] - 0s 9ms/step - loss: 3485.4927 - val_loss: 12209.1982\n",
      "Epoch 9/10\n",
      "6/6 [==============================] - 0s 9ms/step - loss: 3415.9351 - val_loss: 12097.9180\n",
      "Epoch 10/10\n",
      "6/6 [==============================] - 0s 9ms/step - loss: 3362.2656 - val_loss: 12001.2754\n"
     ]
    },
    {
     "data": {
      "text/plain": [
       "<Figure size 432x288 with 1 Axes>"
      ],
      "image/png": "[encoded data removed]"
     },
     "metadata": {
      "needs_background": "light"
     },
     "output_type": "display_data"
    }
   ],
   "execution_count": 4
  },
  {
   "metadata": {
    "ExecuteTime": {
     "end_time": "2024-09-11T13:54:45.065601Z",
     "start_time": "2024-09-11T13:54:44.204315Z"
    }
   },
   "cell_type": "code",
   "source": [
    "# Evaluate the model\n",
    "loss = model.evaluate(X_test, y_test)\n",
    "print(f'Test Loss: {loss}')\n",
    "\n",
    "# Make predictions\n",
    "predictions = model.predict(X_test)\n",
    "\n",
    "# Inverse transform the predictions and actual values for comparison\n",
    "predictions_inv = scaler.inverse_transform(predictions)\n",
    "y_test_inv = scaler.inverse_transform(y_test.reshape(-1, 1))\n",
    "\n",
    "# Plot predictions vs actual values\n",
    "plt.figure(figsize=(14, 7))\n",
    "plt.plot(df.index[-len(y_test):], y_test_inv, label='Actual Prices')\n",
    "plt.plot(df.index[-len(predictions):], predictions_inv, label='Predicted Prices', linestyle='--')\n",
    "plt.xlabel('Date')\n",
    "plt.ylabel('Price')\n",
    "plt.legend()\n",
    "plt.show()\n"
   ],
   "id": "9e5a5ade9fb73f2c",
   "outputs": [
    {
     "name": "stdout",
     "output_type": "stream",
     "text": [
      "2/2 [==============================] - 0s 4ms/step - loss: 12254.2578\n",
      "Test Loss: 12254.2578125\n",
      "2/2 [==============================] - 1s 4ms/step\n"
     ]
    },
    {
     "data": {
      "text/plain": [
       "<Figure size 1008x504 with 1 Axes>"
      ],
      "image/png": "[encoded data removed]"
     },
     "metadata": {
      "needs_background": "light"
     },
     "output_type": "display_data"
    }
   ],
   "execution_count": 5
  }
 ],
 "metadata": {
  "kernelspec": {
   "display_name": "Python 3",
   "language": "python",
   "name": "python3"
  },
  "language_info": {
   "codemirror_mode": {
    "name": "ipython",
    "version": 2
   },
   "file_extension": ".py",
   "mimetype": "text/x-python",
   "name": "python",
   "nbconvert_exporter": "python",
   "pygments_lexer": "ipython2",
   "version": "2.7.6"
  }
 },
 "nbformat": 4,
 "nbformat_minor": 5
}
