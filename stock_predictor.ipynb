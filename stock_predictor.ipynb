{
 "cells": [
  {
   "cell_type": "code",
   "id": "initial_id",
   "metadata": {
    "collapsed": true,
    "ExecuteTime": {
     "end_time": "2024-09-11T13:50:37.115370Z",
     "start_time": "2024-09-11T13:50:36.884257Z"
    }
   },
   "source": [
    "\n",
    "\n",
    "import numpy as np \n",
    "import pandas as pd \n",
    "import matplotlib.pyplot as plt \n",
    "import seaborn as sb \n",
    "  \n",
    "from sklearn.model_selection import train_test_split \n",
    "from sklearn.preprocessing import StandardScaler \n",
    "from sklearn.linear_model import LogisticRegression \n",
    "from sklearn.svm import SVC \n",
    "from xgboost import XGBClassifier \n",
    "from sklearn import metrics \n",
    "  \n",
    "import warnings \n",
    "warnings.filterwarnings('ignore')\n"
   ],
   "outputs": [],
   "execution_count": 1
  },
  {
   "metadata": {
    "ExecuteTime": {
     "end_time": "2024-09-11T13:50:37.146399Z",
     "start_time": "2024-09-11T13:50:37.127382Z"
    }
   },
   "cell_type": "code",
   "source": [
    "#import data and convert into pandas dataframe object\n",
    "df=pd.read_csv(\"NVDA.csv\")\n",
    "df.head()"
   ],
   "id": "b6fc1e8a193bcc6d",
   "outputs": [
    {
     "data": {
      "text/plain": [
       "         Date       Open       High        Low      Close  Adj Close  \\\n",
       "0  2023-08-29  46.666000  49.081001  46.390999  48.784000  48.769402   \n",
       "1  2023-08-30  49.043999  49.926998  48.424999  49.264000  49.249252   \n",
       "2  2023-08-31  49.380001  49.743999  48.958000  49.355000  49.340225   \n",
       "3  2023-09-01  49.762001  49.799999  48.141998  48.508999  48.494484   \n",
       "4  2023-09-05  48.223000  48.851002  47.860001  48.548000  48.533470   \n",
       "\n",
       "      Volume  \n",
       "0  701397000  \n",
       "1  735206000  \n",
       "2  528570000  \n",
       "3  463830000  \n",
       "4  382653000  "
      ],
      "text/html": [
       "<div>\n",
       "<style scoped>\n",
       "    .dataframe tbody tr th:only-of-type {\n",
       "        vertical-align: middle;\n",
       "    }\n",
       "\n",
       "    .dataframe tbody tr th {\n",
       "        vertical-align: top;\n",
       "    }\n",
       "\n",
       "    .dataframe thead th {\n",
       "        text-align: right;\n",
       "    }\n",
       "</style>\n",
       "<table border=\"1\" class=\"dataframe\">\n",
       "  <thead>\n",
       "    <tr style=\"text-align: right;\">\n",
       "      <th></th>\n",
       "      <th>Date</th>\n",
       "      <th>Open</th>\n",
       "      <th>High</th>\n",
       "      <th>Low</th>\n",
       "      <th>Close</th>\n",
       "      <th>Adj Close</th>\n",
       "      <th>Volume</th>\n",
       "    </tr>\n",
       "  </thead>\n",
       "  <tbody>\n",
       "    <tr>\n",
       "      <th>0</th>\n",
       "      <td>2023-08-29</td>\n",
       "      <td>46.666000</td>\n",
       "      <td>49.081001</td>\n",
       "      <td>46.390999</td>\n",
       "      <td>48.784000</td>\n",
       "      <td>48.769402</td>\n",
       "      <td>701397000</td>\n",
       "    </tr>\n",
       "    <tr>\n",
       "      <th>1</th>\n",
       "      <td>2023-08-30</td>\n",
       "      <td>49.043999</td>\n",
       "      <td>49.926998</td>\n",
       "      <td>48.424999</td>\n",
       "      <td>49.264000</td>\n",
       "      <td>49.249252</td>\n",
       "      <td>735206000</td>\n",
       "    </tr>\n",
       "    <tr>\n",
       "      <th>2</th>\n",
       "      <td>2023-08-31</td>\n",
       "      <td>49.380001</td>\n",
       "      <td>49.743999</td>\n",
       "      <td>48.958000</td>\n",
       "      <td>49.355000</td>\n",
       "      <td>49.340225</td>\n",
       "      <td>528570000</td>\n",
       "    </tr>\n",
       "    <tr>\n",
       "      <th>3</th>\n",
       "      <td>2023-09-01</td>\n",
       "      <td>49.762001</td>\n",
       "      <td>49.799999</td>\n",
       "      <td>48.141998</td>\n",
       "      <td>48.508999</td>\n",
       "      <td>48.494484</td>\n",
       "      <td>463830000</td>\n",
       "    </tr>\n",
       "    <tr>\n",
       "      <th>4</th>\n",
       "      <td>2023-09-05</td>\n",
       "      <td>48.223000</td>\n",
       "      <td>48.851002</td>\n",
       "      <td>47.860001</td>\n",
       "      <td>48.548000</td>\n",
       "      <td>48.533470</td>\n",
       "      <td>382653000</td>\n",
       "    </tr>\n",
       "  </tbody>\n",
       "</table>\n",
       "</div>"
      ]
     },
     "execution_count": 2,
     "metadata": {},
     "output_type": "execute_result"
    }
   ],
   "execution_count": 2
  },
  {
   "metadata": {
    "ExecuteTime": {
     "end_time": "2024-09-11T13:50:37.751463Z",
     "start_time": "2024-09-11T13:50:37.736950Z"
    }
   },
   "cell_type": "code",
   "source": "df.head()",
   "id": "1eaa2ccaa963d8c4",
   "outputs": [
    {
     "data": {
      "text/plain": [
       "         Date       Open       High        Low      Close  Adj Close  \\\n",
       "0  2023-08-29  46.666000  49.081001  46.390999  48.784000  48.769402   \n",
       "1  2023-08-30  49.043999  49.926998  48.424999  49.264000  49.249252   \n",
       "2  2023-08-31  49.380001  49.743999  48.958000  49.355000  49.340225   \n",
       "3  2023-09-01  49.762001  49.799999  48.141998  48.508999  48.494484   \n",
       "4  2023-09-05  48.223000  48.851002  47.860001  48.548000  48.533470   \n",
       "\n",
       "      Volume  \n",
       "0  701397000  \n",
       "1  735206000  \n",
       "2  528570000  \n",
       "3  463830000  \n",
       "4  382653000  "
      ],
      "text/html": [
       "<div>\n",
       "<style scoped>\n",
       "    .dataframe tbody tr th:only-of-type {\n",
       "        vertical-align: middle;\n",
       "    }\n",
       "\n",
       "    .dataframe tbody tr th {\n",
       "        vertical-align: top;\n",
       "    }\n",
       "\n",
       "    .dataframe thead th {\n",
       "        text-align: right;\n",
       "    }\n",
       "</style>\n",
       "<table border=\"1\" class=\"dataframe\">\n",
       "  <thead>\n",
       "    <tr style=\"text-align: right;\">\n",
       "      <th></th>\n",
       "      <th>Date</th>\n",
       "      <th>Open</th>\n",
       "      <th>High</th>\n",
       "      <th>Low</th>\n",
       "      <th>Close</th>\n",
       "      <th>Adj Close</th>\n",
       "      <th>Volume</th>\n",
       "    </tr>\n",
       "  </thead>\n",
       "  <tbody>\n",
       "    <tr>\n",
       "      <th>0</th>\n",
       "      <td>2023-08-29</td>\n",
       "      <td>46.666000</td>\n",
       "      <td>49.081001</td>\n",
       "      <td>46.390999</td>\n",
       "      <td>48.784000</td>\n",
       "      <td>48.769402</td>\n",
       "      <td>701397000</td>\n",
       "    </tr>\n",
       "    <tr>\n",
       "      <th>1</th>\n",
       "      <td>2023-08-30</td>\n",
       "      <td>49.043999</td>\n",
       "      <td>49.926998</td>\n",
       "      <td>48.424999</td>\n",
       "      <td>49.264000</td>\n",
       "      <td>49.249252</td>\n",
       "      <td>735206000</td>\n",
       "    </tr>\n",
       "    <tr>\n",
       "      <th>2</th>\n",
       "      <td>2023-08-31</td>\n",
       "      <td>49.380001</td>\n",
       "      <td>49.743999</td>\n",
       "      <td>48.958000</td>\n",
       "      <td>49.355000</td>\n",
       "      <td>49.340225</td>\n",
       "      <td>528570000</td>\n",
       "    </tr>\n",
       "    <tr>\n",
       "      <th>3</th>\n",
       "      <td>2023-09-01</td>\n",
       "      <td>49.762001</td>\n",
       "      <td>49.799999</td>\n",
       "      <td>48.141998</td>\n",
       "      <td>48.508999</td>\n",
       "      <td>48.494484</td>\n",
       "      <td>463830000</td>\n",
       "    </tr>\n",
       "    <tr>\n",
       "      <th>4</th>\n",
       "      <td>2023-09-05</td>\n",
       "      <td>48.223000</td>\n",
       "      <td>48.851002</td>\n",
       "      <td>47.860001</td>\n",
       "      <td>48.548000</td>\n",
       "      <td>48.533470</td>\n",
       "      <td>382653000</td>\n",
       "    </tr>\n",
       "  </tbody>\n",
       "</table>\n",
       "</div>"
      ]
     },
     "execution_count": 3,
     "metadata": {},
     "output_type": "execute_result"
    }
   ],
   "execution_count": 3
  },
  {
   "metadata": {
    "ExecuteTime": {
     "end_time": "2024-09-11T13:50:37.813520Z",
     "start_time": "2024-09-11T13:50:37.806514Z"
    }
   },
   "cell_type": "code",
   "source": [
    "\n",
    "\n",
    "df['Close'].to_numpy()\n"
   ],
   "id": "f4004938860879e",
   "outputs": [
    {
     "data": {
      "text/plain": [
       "array([ 48.784   ,  49.264   ,  49.355   ,  48.508999,  48.548   ,\n",
       "        47.061001,  46.241001,  45.571999,  45.178001,  44.869999,\n",
       "        45.485001,  45.581001,  43.900002,  43.966   ,  43.52    ,\n",
       "        42.238998,  41.016998,  41.610001,  42.222   ,  41.910999,\n",
       "        42.467999,  43.089001,  43.499001,  44.782001,  43.516998,\n",
       "        44.041   ,  44.688   ,  45.762001,  45.272999,  45.798   ,\n",
       "        46.806   ,  46.945   ,  45.460999,  46.095001,  43.938   ,\n",
       "        42.195999,  42.101002,  41.387001,  42.974998,  43.662998,\n",
       "        41.778999,  40.326   ,  40.5     ,  41.160999,  40.779999,\n",
       "        42.325001,  43.506001,  45.005001,  45.750999,  45.955002,\n",
       "        46.574001,  46.950001,  48.334999,  48.619999,  49.655998,\n",
       "        48.888   ,  49.48    ,  49.298   ,  50.409   ,  49.944   ,\n",
       "        48.716   ,  47.776001,  48.242001,  47.820999,  48.139999,\n",
       "        46.77    ,  46.764999,  45.509998,  46.566002,  45.502998,\n",
       "        46.596001,  47.506001,  46.626999,  47.657001,  48.088001,\n",
       "        48.349998,  48.889999,  50.077   ,  49.604   ,  48.111   ,\n",
       "        48.990002,  48.830002,  49.278999,  49.417   ,  49.521999,\n",
       "        49.521999,  48.167999,  47.569   ,  47.998001,  49.097   ,\n",
       "        52.252998,  53.139999,  54.349998,  54.821999,  54.709999,\n",
       "        56.382   ,  56.053001,  57.106998,  59.491001,  59.653999,\n",
       "        59.873001,  61.362   ,  61.617001,  61.030998,  62.465   ,\n",
       "        62.773998,  61.527   ,  63.027   ,  66.160004,  69.332001,\n",
       "        68.223   ,  70.098999,  69.640999,  72.133003,  72.248001,\n",
       "        72.127998,  73.900002,  72.657997,  72.612999,  69.452003,\n",
       "        67.472   ,  78.538002,  78.817001,  79.092003,  78.700996,\n",
       "        77.663002,  79.112   ,  82.278999,  85.237   ,  85.963997,\n",
       "        88.699997,  92.668999,  87.528   ,  85.774002,  91.913002,\n",
       "        90.888   ,  87.944   ,  87.836998,  88.455002,  89.398003,\n",
       "        90.372002,  91.434998,  94.289001,  95.001999,  92.560997,\n",
       "        90.25    ,  90.356003,  90.362999,  89.452003,  88.963997,\n",
       "        85.904999,  88.008003,  87.133003,  85.353996,  87.039001,\n",
       "        90.615997,  88.185997,  86.000999,  87.415001,  84.035004,\n",
       "        84.670998,  76.199997,  79.517998,  82.422997,  79.677002,\n",
       "        82.632004,  87.735001,  87.757004,  86.402   ,  83.041   ,\n",
       "        85.817001,  88.789001,  92.139999,  90.554001,  90.412003,\n",
       "        88.747002,  89.877998,  90.399002,  91.356003,  94.629997,\n",
       "        94.359001,  92.478996,  94.779999,  95.386002,  94.949997,\n",
       "       103.799004, 106.469002, 113.901001, 114.824997, 110.5     ,\n",
       "       109.633003, 115.      , 116.436996, 122.440002, 120.998001,\n",
       "       120.888   , 121.790001, 120.910004, 125.199997, 129.610001,\n",
       "       131.880005, 130.979996, 135.580002, 130.779999, 126.57    ,\n",
       "       118.110001, 126.089996, 126.400002, 123.989998, 123.540001,\n",
       "       124.300003, 122.669998, 128.279999, 125.830002, 128.199997,\n",
       "       131.380005, 134.910004, 127.400002, 129.240005, 128.440002,\n",
       "       126.360001, 117.989998, 121.089996, 117.93    , 123.540001,\n",
       "       122.589996, 114.25    , 112.279999, 113.059998, 111.589996,\n",
       "       103.730003, 117.019997, 109.209999, 107.269997, 100.449997,\n",
       "       104.25    ,  98.910004, 104.970001, 104.75    , 109.019997,\n",
       "       116.139999, 118.080002, 122.860001, 124.580002, 130.      ,\n",
       "       127.25    , 128.5     , 123.739998, 129.369995, 126.459999,\n",
       "       128.300003, 125.610001, 118.160004])"
      ]
     },
     "execution_count": 4,
     "metadata": {},
     "output_type": "execute_result"
    }
   ],
   "execution_count": 4
  },
  {
   "metadata": {
    "ExecuteTime": {
     "end_time": "2024-09-11T13:50:37.922120Z",
     "start_time": "2024-09-11T13:50:37.908107Z"
    }
   },
   "cell_type": "code",
   "source": [
    "\n",
    "\n",
    "df.isnull().sum()\n"
   ],
   "id": "6565705f5a07b867",
   "outputs": [
    {
     "data": {
      "text/plain": [
       "Date         0\n",
       "Open         0\n",
       "High         0\n",
       "Low          0\n",
       "Close        0\n",
       "Adj Close    0\n",
       "Volume       0\n",
       "dtype: int64"
      ]
     },
     "execution_count": 5,
     "metadata": {},
     "output_type": "execute_result"
    }
   ],
   "execution_count": 5
  },
  {
   "metadata": {
    "ExecuteTime": {
     "end_time": "2024-09-11T13:50:38.015250Z",
     "start_time": "2024-09-11T13:50:38.000692Z"
    }
   },
   "cell_type": "code",
   "source": [
    "print(df.head())\n",
    "print(df.columns)\n",
    "print(df.index)"
   ],
   "id": "c078240e8a74c521",
   "outputs": [
    {
     "name": "stdout",
     "output_type": "stream",
     "text": [
      "         Date       Open       High        Low      Close  Adj Close  \\\n",
      "0  2023-08-29  46.666000  49.081001  46.390999  48.784000  48.769402   \n",
      "1  2023-08-30  49.043999  49.926998  48.424999  49.264000  49.249252   \n",
      "2  2023-08-31  49.380001  49.743999  48.958000  49.355000  49.340225   \n",
      "3  2023-09-01  49.762001  49.799999  48.141998  48.508999  48.494484   \n",
      "4  2023-09-05  48.223000  48.851002  47.860001  48.548000  48.533470   \n",
      "\n",
      "      Volume  \n",
      "0  701397000  \n",
      "1  735206000  \n",
      "2  528570000  \n",
      "3  463830000  \n",
      "4  382653000  \n",
      "Index(['Date', 'Open', 'High', 'Low', 'Close', 'Adj Close', 'Volume'], dtype='object')\n",
      "RangeIndex(start=0, stop=253, step=1)\n"
     ]
    }
   ],
   "execution_count": 6
  },
  {
   "metadata": {
    "ExecuteTime": {
     "end_time": "2024-09-11T13:50:38.216277Z",
     "start_time": "2024-09-11T13:50:38.202264Z"
    }
   },
   "cell_type": "code",
   "source": "df = df.reset_index()",
   "id": "7403820efbc01565",
   "outputs": [],
   "execution_count": 7
  },
  {
   "metadata": {
    "ExecuteTime": {
     "end_time": "2024-09-11T13:50:38.278334Z",
     "start_time": "2024-09-11T13:50:38.264321Z"
    }
   },
   "cell_type": "code",
   "source": [
    "import numpy as np\n",
    "\n",
    "# Ensure the column is a NumPy array\n",
    "data_to_plot = np.array(df['Open'])"
   ],
   "id": "212029be7e8cfe51",
   "outputs": [],
   "execution_count": 8
  },
  {
   "metadata": {
    "ExecuteTime": {
     "end_time": "2024-09-11T13:50:39.240097Z",
     "start_time": "2024-09-11T13:50:38.287342Z"
    }
   },
   "cell_type": "code",
   "source": [
    "import seaborn as sns\n",
    "import matplotlib.pyplot as plt\n",
    "\n",
    "# Plotting the distribution plot\n",
    "sns.displot(df['Open'].apply(lambda x: type(x)), kde=True)\n",
    "\n",
    "# Display the plot\n",
    "plt.show()"
   ],
   "id": "baa0fb4f3f25c248",
   "outputs": [
    {
     "ename": "TypeError",
     "evalue": "Invalid object type at position 0",
     "output_type": "error",
     "traceback": [
      "\u001B[1;31m---------------------------------------------------------------------------\u001B[0m",
      "\u001B[1;31mTypeError\u001B[0m                                 Traceback (most recent call last)",
      "\u001B[1;32m~\\anaconda3\\lib\\site-packages\\pandas\\_libs\\lib.pyx\u001B[0m in \u001B[0;36mpandas._libs.lib.maybe_convert_numeric\u001B[1;34m()\u001B[0m\n",
      "\u001B[1;31mTypeError\u001B[0m: Invalid object type",
      "\nDuring handling of the above exception, another exception occurred:\n",
      "\u001B[1;31mTypeError\u001B[0m                                 Traceback (most recent call last)",
      "\u001B[1;32m<ipython-input-9-fc41e052fe38>\u001B[0m in \u001B[0;36m<module>\u001B[1;34m\u001B[0m\n\u001B[0;32m      3\u001B[0m \u001B[1;33m\u001B[0m\u001B[0m\n\u001B[0;32m      4\u001B[0m \u001B[1;31m# Plotting the distribution plot\u001B[0m\u001B[1;33m\u001B[0m\u001B[1;33m\u001B[0m\u001B[1;33m\u001B[0m\u001B[0m\n\u001B[1;32m----> 5\u001B[1;33m \u001B[0msns\u001B[0m\u001B[1;33m.\u001B[0m\u001B[0mdisplot\u001B[0m\u001B[1;33m(\u001B[0m\u001B[0mdf\u001B[0m\u001B[1;33m[\u001B[0m\u001B[1;34m'Open'\u001B[0m\u001B[1;33m]\u001B[0m\u001B[1;33m.\u001B[0m\u001B[0mapply\u001B[0m\u001B[1;33m(\u001B[0m\u001B[1;32mlambda\u001B[0m \u001B[0mx\u001B[0m\u001B[1;33m:\u001B[0m \u001B[0mtype\u001B[0m\u001B[1;33m(\u001B[0m\u001B[0mx\u001B[0m\u001B[1;33m)\u001B[0m\u001B[1;33m)\u001B[0m\u001B[1;33m,\u001B[0m \u001B[0mkde\u001B[0m\u001B[1;33m=\u001B[0m\u001B[1;32mTrue\u001B[0m\u001B[1;33m)\u001B[0m\u001B[1;33m\u001B[0m\u001B[1;33m\u001B[0m\u001B[0m\n\u001B[0m\u001B[0;32m      6\u001B[0m \u001B[1;33m\u001B[0m\u001B[0m\n\u001B[0;32m      7\u001B[0m \u001B[1;31m# Display the plot\u001B[0m\u001B[1;33m\u001B[0m\u001B[1;33m\u001B[0m\u001B[1;33m\u001B[0m\u001B[0m\n",
      "\u001B[1;32m~\\anaconda3\\lib\\site-packages\\seaborn\\distributions.py\u001B[0m in \u001B[0;36mdisplot\u001B[1;34m(data, x, y, hue, row, col, weights, kind, rug, rug_kws, log_scale, legend, palette, hue_order, hue_norm, color, col_wrap, row_order, col_order, height, aspect, facet_kws, **kwargs)\u001B[0m\n\u001B[0;32m   2191\u001B[0m \u001B[1;33m\u001B[0m\u001B[0m\n\u001B[0;32m   2192\u001B[0m             \u001B[0m_assign_default_kwargs\u001B[0m\u001B[1;33m(\u001B[0m\u001B[0mhist_kws\u001B[0m\u001B[1;33m,\u001B[0m \u001B[0mp\u001B[0m\u001B[1;33m.\u001B[0m\u001B[0mplot_univariate_histogram\u001B[0m\u001B[1;33m,\u001B[0m \u001B[0mhistplot\u001B[0m\u001B[1;33m)\u001B[0m\u001B[1;33m\u001B[0m\u001B[1;33m\u001B[0m\u001B[0m\n\u001B[1;32m-> 2193\u001B[1;33m             \u001B[0mp\u001B[0m\u001B[1;33m.\u001B[0m\u001B[0mplot_univariate_histogram\u001B[0m\u001B[1;33m(\u001B[0m\u001B[1;33m**\u001B[0m\u001B[0mhist_kws\u001B[0m\u001B[1;33m)\u001B[0m\u001B[1;33m\u001B[0m\u001B[1;33m\u001B[0m\u001B[0m\n\u001B[0m\u001B[0;32m   2194\u001B[0m \u001B[1;33m\u001B[0m\u001B[0m\n\u001B[0;32m   2195\u001B[0m         \u001B[1;32melse\u001B[0m\u001B[1;33m:\u001B[0m\u001B[1;33m\u001B[0m\u001B[1;33m\u001B[0m\u001B[0m\n",
      "\u001B[1;32m~\\anaconda3\\lib\\site-packages\\seaborn\\distributions.py\u001B[0m in \u001B[0;36mplot_univariate_histogram\u001B[1;34m(self, multiple, element, fill, common_norm, common_bins, shrink, kde, kde_kws, color, legend, line_kws, estimate_kws, **plot_kws)\u001B[0m\n\u001B[0;32m    425\u001B[0m \u001B[1;33m\u001B[0m\u001B[0m\n\u001B[0;32m    426\u001B[0m         \u001B[1;31m# Do pre-compute housekeeping related to multiple groups\u001B[0m\u001B[1;33m\u001B[0m\u001B[1;33m\u001B[0m\u001B[1;33m\u001B[0m\u001B[0m\n\u001B[1;32m--> 427\u001B[1;33m         \u001B[0mall_data\u001B[0m \u001B[1;33m=\u001B[0m \u001B[0mself\u001B[0m\u001B[1;33m.\u001B[0m\u001B[0mcomp_data\u001B[0m\u001B[1;33m.\u001B[0m\u001B[0mdropna\u001B[0m\u001B[1;33m(\u001B[0m\u001B[1;33m)\u001B[0m\u001B[1;33m\u001B[0m\u001B[1;33m\u001B[0m\u001B[0m\n\u001B[0m\u001B[0;32m    428\u001B[0m         \u001B[0mall_weights\u001B[0m \u001B[1;33m=\u001B[0m \u001B[0mall_data\u001B[0m\u001B[1;33m.\u001B[0m\u001B[0mget\u001B[0m\u001B[1;33m(\u001B[0m\u001B[1;34m\"weights\"\u001B[0m\u001B[1;33m,\u001B[0m \u001B[1;32mNone\u001B[0m\u001B[1;33m)\u001B[0m\u001B[1;33m\u001B[0m\u001B[1;33m\u001B[0m\u001B[0m\n\u001B[0;32m    429\u001B[0m \u001B[1;33m\u001B[0m\u001B[0m\n",
      "\u001B[1;32m~\\anaconda3\\lib\\site-packages\\seaborn\\_base.py\u001B[0m in \u001B[0;36mcomp_data\u001B[1;34m(self)\u001B[0m\n\u001B[0;32m    998\u001B[0m                         \u001B[1;31m# supporting `order` in categorical plots is tricky\u001B[0m\u001B[1;33m\u001B[0m\u001B[1;33m\u001B[0m\u001B[1;33m\u001B[0m\u001B[0m\n\u001B[0;32m    999\u001B[0m                         \u001B[0morig\u001B[0m \u001B[1;33m=\u001B[0m \u001B[0morig\u001B[0m\u001B[1;33m[\u001B[0m\u001B[0morig\u001B[0m\u001B[1;33m.\u001B[0m\u001B[0misin\u001B[0m\u001B[1;33m(\u001B[0m\u001B[0mself\u001B[0m\u001B[1;33m.\u001B[0m\u001B[0mvar_levels\u001B[0m\u001B[1;33m[\u001B[0m\u001B[0mvar\u001B[0m\u001B[1;33m]\u001B[0m\u001B[1;33m)\u001B[0m\u001B[1;33m]\u001B[0m\u001B[1;33m\u001B[0m\u001B[1;33m\u001B[0m\u001B[0m\n\u001B[1;32m-> 1000\u001B[1;33m                     \u001B[0mcomp\u001B[0m \u001B[1;33m=\u001B[0m \u001B[0mpd\u001B[0m\u001B[1;33m.\u001B[0m\u001B[0mto_numeric\u001B[0m\u001B[1;33m(\u001B[0m\u001B[0mconverter\u001B[0m\u001B[1;33m.\u001B[0m\u001B[0mconvert_units\u001B[0m\u001B[1;33m(\u001B[0m\u001B[0morig\u001B[0m\u001B[1;33m)\u001B[0m\u001B[1;33m)\u001B[0m\u001B[1;33m.\u001B[0m\u001B[0mastype\u001B[0m\u001B[1;33m(\u001B[0m\u001B[0mfloat\u001B[0m\u001B[1;33m)\u001B[0m\u001B[1;33m\u001B[0m\u001B[1;33m\u001B[0m\u001B[0m\n\u001B[0m\u001B[0;32m   1001\u001B[0m                     \u001B[0mtransform\u001B[0m \u001B[1;33m=\u001B[0m \u001B[0mconverter\u001B[0m\u001B[1;33m.\u001B[0m\u001B[0mget_transform\u001B[0m\u001B[1;33m(\u001B[0m\u001B[1;33m)\u001B[0m\u001B[1;33m.\u001B[0m\u001B[0mtransform\u001B[0m\u001B[1;33m\u001B[0m\u001B[1;33m\u001B[0m\u001B[0m\n\u001B[0;32m   1002\u001B[0m                     \u001B[0mparts\u001B[0m\u001B[1;33m.\u001B[0m\u001B[0mappend\u001B[0m\u001B[1;33m(\u001B[0m\u001B[0mpd\u001B[0m\u001B[1;33m.\u001B[0m\u001B[0mSeries\u001B[0m\u001B[1;33m(\u001B[0m\u001B[0mtransform\u001B[0m\u001B[1;33m(\u001B[0m\u001B[0mcomp\u001B[0m\u001B[1;33m)\u001B[0m\u001B[1;33m,\u001B[0m \u001B[0morig\u001B[0m\u001B[1;33m.\u001B[0m\u001B[0mindex\u001B[0m\u001B[1;33m,\u001B[0m \u001B[0mname\u001B[0m\u001B[1;33m=\u001B[0m\u001B[0morig\u001B[0m\u001B[1;33m.\u001B[0m\u001B[0mname\u001B[0m\u001B[1;33m)\u001B[0m\u001B[1;33m)\u001B[0m\u001B[1;33m\u001B[0m\u001B[1;33m\u001B[0m\u001B[0m\n",
      "\u001B[1;32m~\\anaconda3\\lib\\site-packages\\pandas\\core\\tools\\numeric.py\u001B[0m in \u001B[0;36mto_numeric\u001B[1;34m(arg, errors, downcast, dtype_backend)\u001B[0m\n\u001B[0;32m    215\u001B[0m         \u001B[0mcoerce_numeric\u001B[0m \u001B[1;33m=\u001B[0m \u001B[0merrors\u001B[0m \u001B[1;32mnot\u001B[0m \u001B[1;32min\u001B[0m \u001B[1;33m(\u001B[0m\u001B[1;34m\"ignore\"\u001B[0m\u001B[1;33m,\u001B[0m \u001B[1;34m\"raise\"\u001B[0m\u001B[1;33m)\u001B[0m\u001B[1;33m\u001B[0m\u001B[1;33m\u001B[0m\u001B[0m\n\u001B[0;32m    216\u001B[0m         \u001B[1;32mtry\u001B[0m\u001B[1;33m:\u001B[0m\u001B[1;33m\u001B[0m\u001B[1;33m\u001B[0m\u001B[0m\n\u001B[1;32m--> 217\u001B[1;33m             values, new_mask = lib.maybe_convert_numeric(  # type: ignore[call-overload]  # noqa\n\u001B[0m\u001B[0;32m    218\u001B[0m                 \u001B[0mvalues\u001B[0m\u001B[1;33m,\u001B[0m\u001B[1;33m\u001B[0m\u001B[1;33m\u001B[0m\u001B[0m\n\u001B[0;32m    219\u001B[0m                 \u001B[0mset\u001B[0m\u001B[1;33m(\u001B[0m\u001B[1;33m)\u001B[0m\u001B[1;33m,\u001B[0m\u001B[1;33m\u001B[0m\u001B[1;33m\u001B[0m\u001B[0m\n",
      "\u001B[1;32m~\\anaconda3\\lib\\site-packages\\pandas\\_libs\\lib.pyx\u001B[0m in \u001B[0;36mpandas._libs.lib.maybe_convert_numeric\u001B[1;34m()\u001B[0m\n",
      "\u001B[1;31mTypeError\u001B[0m: Invalid object type at position 0"
     ]
    },
    {
     "data": {
      "text/plain": [
       "<Figure size 360x360 with 1 Axes>"
      ],
      "image/png": "[encoded data removed]"
     },
     "metadata": {
      "needs_background": "light"
     },
     "output_type": "display_data"
    }
   ],
   "execution_count": 9
  },
  {
   "metadata": {
    "ExecuteTime": {
     "end_time": "2024-09-11T13:50:39.244100900Z",
     "start_time": "2024-09-11T13:46:25.552445Z"
    }
   },
   "cell_type": "code",
   "source": [
    "\n",
    "features = ['Open', 'High', 'Low', 'Close', 'Volume'] \n",
    "  \n",
    "plt.subplots(figsize=(20,10)) \n",
    "  \n",
    "# for i, col in enumerate(features): \n",
    "#    plt.subplot(2,3,i+1) \n",
    "#    sb.displot(df[col], kde = True) \n",
    "sb.displot(df['Open'].to_numpy(), kde = True)\n",
    "plt.show()\n",
    "\n"
   ],
   "id": "211617c582a131b4",
   "outputs": [
    {
     "ename": "ValueError",
     "evalue": "Multi-dimensional indexing (e.g. `obj[:, None]`) is no longer supported. Convert to a numpy array before indexing instead.",
     "output_type": "error",
     "traceback": [
      "\u001B[1;31m---------------------------------------------------------------------------\u001B[0m",
      "\u001B[1;31mValueError\u001B[0m                                Traceback (most recent call last)",
      "\u001B[1;32m<ipython-input-71-40af52a34dc2>\u001B[0m in \u001B[0;36m<module>\u001B[1;34m\u001B[0m\n\u001B[0;32m      6\u001B[0m \u001B[1;31m#    plt.subplot(2,3,i+1)\u001B[0m\u001B[1;33m\u001B[0m\u001B[1;33m\u001B[0m\u001B[1;33m\u001B[0m\u001B[0m\n\u001B[0;32m      7\u001B[0m \u001B[1;31m#    sb.displot(df[col], kde = True)\u001B[0m\u001B[1;33m\u001B[0m\u001B[1;33m\u001B[0m\u001B[1;33m\u001B[0m\u001B[0m\n\u001B[1;32m----> 8\u001B[1;33m \u001B[0msb\u001B[0m\u001B[1;33m.\u001B[0m\u001B[0mdisplot\u001B[0m\u001B[1;33m(\u001B[0m\u001B[0mdf\u001B[0m\u001B[1;33m[\u001B[0m\u001B[1;34m'Open'\u001B[0m\u001B[1;33m]\u001B[0m\u001B[1;33m.\u001B[0m\u001B[0mto_numpy\u001B[0m\u001B[1;33m(\u001B[0m\u001B[1;33m)\u001B[0m\u001B[1;33m,\u001B[0m \u001B[0mkde\u001B[0m \u001B[1;33m=\u001B[0m \u001B[1;32mTrue\u001B[0m\u001B[1;33m)\u001B[0m\u001B[1;33m\u001B[0m\u001B[1;33m\u001B[0m\u001B[0m\n\u001B[0m\u001B[0;32m      9\u001B[0m \u001B[0mplt\u001B[0m\u001B[1;33m.\u001B[0m\u001B[0mshow\u001B[0m\u001B[1;33m(\u001B[0m\u001B[1;33m)\u001B[0m\u001B[1;33m\u001B[0m\u001B[1;33m\u001B[0m\u001B[0m\n\u001B[0;32m     10\u001B[0m \u001B[1;33m\u001B[0m\u001B[0m\n",
      "\u001B[1;32m~\\anaconda3\\lib\\site-packages\\seaborn\\distributions.py\u001B[0m in \u001B[0;36mdisplot\u001B[1;34m(data, x, y, hue, row, col, weights, kind, rug, rug_kws, log_scale, legend, palette, hue_order, hue_norm, color, col_wrap, row_order, col_order, height, aspect, facet_kws, **kwargs)\u001B[0m\n\u001B[0;32m   2225\u001B[0m \u001B[1;33m\u001B[0m\u001B[0m\n\u001B[0;32m   2226\u001B[0m             \u001B[0m_assign_default_kwargs\u001B[0m\u001B[1;33m(\u001B[0m\u001B[0mhist_kws\u001B[0m\u001B[1;33m,\u001B[0m \u001B[0mp\u001B[0m\u001B[1;33m.\u001B[0m\u001B[0mplot_univariate_histogram\u001B[0m\u001B[1;33m,\u001B[0m \u001B[0mhistplot\u001B[0m\u001B[1;33m)\u001B[0m\u001B[1;33m\u001B[0m\u001B[1;33m\u001B[0m\u001B[0m\n\u001B[1;32m-> 2227\u001B[1;33m             \u001B[0mp\u001B[0m\u001B[1;33m.\u001B[0m\u001B[0mplot_univariate_histogram\u001B[0m\u001B[1;33m(\u001B[0m\u001B[1;33m**\u001B[0m\u001B[0mhist_kws\u001B[0m\u001B[1;33m)\u001B[0m\u001B[1;33m\u001B[0m\u001B[1;33m\u001B[0m\u001B[0m\n\u001B[0m\u001B[0;32m   2228\u001B[0m \u001B[1;33m\u001B[0m\u001B[0m\n\u001B[0;32m   2229\u001B[0m         \u001B[1;32melse\u001B[0m\u001B[1;33m:\u001B[0m\u001B[1;33m\u001B[0m\u001B[1;33m\u001B[0m\u001B[0m\n",
      "\u001B[1;32m~\\anaconda3\\lib\\site-packages\\seaborn\\distributions.py\u001B[0m in \u001B[0;36mplot_univariate_histogram\u001B[1;34m(self, multiple, element, fill, common_norm, common_bins, shrink, kde, kde_kws, color, legend, line_kws, estimate_kws, **plot_kws)\u001B[0m\n\u001B[0;32m    632\u001B[0m \u001B[1;33m\u001B[0m\u001B[0m\n\u001B[0;32m    633\u001B[0m                 \u001B[0mline_kws\u001B[0m\u001B[1;33m[\u001B[0m\u001B[1;34m\"color\"\u001B[0m\u001B[1;33m]\u001B[0m \u001B[1;33m=\u001B[0m \u001B[0mto_rgba\u001B[0m\u001B[1;33m(\u001B[0m\u001B[0mcolor\u001B[0m\u001B[1;33m,\u001B[0m \u001B[1;36m1\u001B[0m\u001B[1;33m)\u001B[0m\u001B[1;33m\u001B[0m\u001B[1;33m\u001B[0m\u001B[0m\n\u001B[1;32m--> 634\u001B[1;33m                 line, = ax.plot(\n\u001B[0m\u001B[0;32m    635\u001B[0m                     \u001B[1;33m*\u001B[0m\u001B[0mline_args\u001B[0m\u001B[1;33m,\u001B[0m \u001B[1;33m**\u001B[0m\u001B[0mline_kws\u001B[0m\u001B[1;33m,\u001B[0m\u001B[1;33m\u001B[0m\u001B[1;33m\u001B[0m\u001B[0m\n\u001B[0;32m    636\u001B[0m                 )\n",
      "\u001B[1;32m~\\anaconda3\\lib\\site-packages\\matplotlib\\axes\\_axes.py\u001B[0m in \u001B[0;36mplot\u001B[1;34m(self, scalex, scaley, data, *args, **kwargs)\u001B[0m\n",
      "\u001B[1;32m~\\anaconda3\\lib\\site-packages\\matplotlib\\axes\\_base.py\u001B[0m in \u001B[0;36m__call__\u001B[1;34m(self, data, *args, **kwargs)\u001B[0m\n",
      "\u001B[1;32m~\\anaconda3\\lib\\site-packages\\matplotlib\\axes\\_base.py\u001B[0m in \u001B[0;36m_plot_args\u001B[1;34m(self, tup, kwargs)\u001B[0m\n",
      "\u001B[1;32m~\\anaconda3\\lib\\site-packages\\matplotlib\\cbook\\__init__.py\u001B[0m in \u001B[0;36m_check_1d\u001B[1;34m(x)\u001B[0m\n\u001B[0;32m   1316\u001B[0m                     message='Support for multi-dimensional indexing')\n\u001B[0;32m   1317\u001B[0m \u001B[1;33m\u001B[0m\u001B[0m\n\u001B[1;32m-> 1318\u001B[1;33m                 \u001B[0mndim\u001B[0m \u001B[1;33m=\u001B[0m \u001B[0mx\u001B[0m\u001B[1;33m[\u001B[0m\u001B[1;33m:\u001B[0m\u001B[1;33m,\u001B[0m \u001B[1;32mNone\u001B[0m\u001B[1;33m]\u001B[0m\u001B[1;33m.\u001B[0m\u001B[0mndim\u001B[0m\u001B[1;33m\u001B[0m\u001B[1;33m\u001B[0m\u001B[0m\n\u001B[0m\u001B[0;32m   1319\u001B[0m                 \u001B[1;31m# we have definitely hit a pandas index or series object\u001B[0m\u001B[1;33m\u001B[0m\u001B[1;33m\u001B[0m\u001B[1;33m\u001B[0m\u001B[0m\n\u001B[0;32m   1320\u001B[0m                 \u001B[1;31m# cast to a numpy array.\u001B[0m\u001B[1;33m\u001B[0m\u001B[1;33m\u001B[0m\u001B[1;33m\u001B[0m\u001B[0m\n",
      "\u001B[1;32m~\\anaconda3\\lib\\site-packages\\pandas\\core\\indexes\\base.py\u001B[0m in \u001B[0;36m__getitem__\u001B[1;34m(self, key)\u001B[0m\n\u001B[0;32m   5197\u001B[0m         \u001B[1;31m# Because we ruled out integer above, we always get an arraylike here\u001B[0m\u001B[1;33m\u001B[0m\u001B[1;33m\u001B[0m\u001B[1;33m\u001B[0m\u001B[0m\n\u001B[0;32m   5198\u001B[0m         \u001B[1;32mif\u001B[0m \u001B[0mresult\u001B[0m\u001B[1;33m.\u001B[0m\u001B[0mndim\u001B[0m \u001B[1;33m>\u001B[0m \u001B[1;36m1\u001B[0m\u001B[1;33m:\u001B[0m\u001B[1;33m\u001B[0m\u001B[1;33m\u001B[0m\u001B[0m\n\u001B[1;32m-> 5199\u001B[1;33m             \u001B[0mdisallow_ndim_indexing\u001B[0m\u001B[1;33m(\u001B[0m\u001B[0mresult\u001B[0m\u001B[1;33m)\u001B[0m\u001B[1;33m\u001B[0m\u001B[1;33m\u001B[0m\u001B[0m\n\u001B[0m\u001B[0;32m   5200\u001B[0m \u001B[1;33m\u001B[0m\u001B[0m\n\u001B[0;32m   5201\u001B[0m         \u001B[1;31m# NB: Using _constructor._simple_new would break if MultiIndex\u001B[0m\u001B[1;33m\u001B[0m\u001B[1;33m\u001B[0m\u001B[1;33m\u001B[0m\u001B[0m\n",
      "\u001B[1;32m~\\anaconda3\\lib\\site-packages\\pandas\\core\\indexers\\utils.py\u001B[0m in \u001B[0;36mdisallow_ndim_indexing\u001B[1;34m(result)\u001B[0m\n\u001B[0;32m    341\u001B[0m     \"\"\"\n\u001B[0;32m    342\u001B[0m     \u001B[1;32mif\u001B[0m \u001B[0mnp\u001B[0m\u001B[1;33m.\u001B[0m\u001B[0mndim\u001B[0m\u001B[1;33m(\u001B[0m\u001B[0mresult\u001B[0m\u001B[1;33m)\u001B[0m \u001B[1;33m>\u001B[0m \u001B[1;36m1\u001B[0m\u001B[1;33m:\u001B[0m\u001B[1;33m\u001B[0m\u001B[1;33m\u001B[0m\u001B[0m\n\u001B[1;32m--> 343\u001B[1;33m         raise ValueError(\n\u001B[0m\u001B[0;32m    344\u001B[0m             \u001B[1;34m\"Multi-dimensional indexing (e.g. `obj[:, None]`) is no longer \"\u001B[0m\u001B[1;33m\u001B[0m\u001B[1;33m\u001B[0m\u001B[0m\n\u001B[0;32m    345\u001B[0m             \u001B[1;34m\"supported. Convert to a numpy array before indexing instead.\"\u001B[0m\u001B[1;33m\u001B[0m\u001B[1;33m\u001B[0m\u001B[0m\n",
      "\u001B[1;31mValueError\u001B[0m: Multi-dimensional indexing (e.g. `obj[:, None]`) is no longer supported. Convert to a numpy array before indexing instead."
     ]
    },
    {
     "data": {
      "text/plain": [
       "<Figure size 1440x720 with 1 Axes>"
      ],
      "image/png": "[encoded data removed]"
     },
     "metadata": {
      "needs_background": "light"
     },
     "output_type": "display_data"
    },
    {
     "data": {
      "text/plain": [
       "<Figure size 360x360 with 1 Axes>"
      ],
      "image/png": "[encoded data removed]"
     },
     "metadata": {
      "needs_background": "light"
     },
     "output_type": "display_data"
    }
   ],
   "execution_count": 71
  }
 ],
 "metadata": {
  "kernelspec": {
   "display_name": "Python 3",
   "language": "python",
   "name": "python3"
  },
  "language_info": {
   "codemirror_mode": {
    "name": "ipython",
    "version": 2
   },
   "file_extension": ".py",
   "mimetype": "text/x-python",
   "name": "python",
   "nbconvert_exporter": "python",
   "pygments_lexer": "ipython2",
   "version": "2.7.6"
  }
 },
 "nbformat": 4,
 "nbformat_minor": 5
}
