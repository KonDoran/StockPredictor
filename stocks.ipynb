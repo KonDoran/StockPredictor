{
 "cells": [
  {
   "cell_type": "code",
   "id": "initial_id",
   "metadata": {
    "collapsed": true,
    "ExecuteTime": {
     "end_time": "2024-09-12T13:45:46.231564Z",
     "start_time": "2024-09-12T13:45:46.221056Z"
    }
   },
   "source": [
    "import pandas as pd\n",
    "import numpy as np\n",
    "import matplotlib.pyplot as plt\n",
    "from sklearn.preprocessing import MinMaxScaler\n",
    "from sklearn.model_selection import train_test_split\n",
    "import tensorflow as tf\n",
    "from tensorflow.keras.models import Sequential\n",
    "from tensorflow.keras.layers import Dense, LSTM, Dropout"
   ],
   "outputs": [],
   "execution_count": 41
  },
  {
   "metadata": {
    "ExecuteTime": {
     "end_time": "2024-09-12T13:46:07.096444Z",
     "start_time": "2024-09-12T13:45:46.240071Z"
    }
   },
   "cell_type": "code",
   "source": [
    "df = pd.read_csv('NVDA_Stock.csv', parse_dates=['Date'], index_col='Date')\n",
    "cols = ['Close', 'Open', 'High', 'Low']\n",
    "\n",
    "# pass them to df.replace(), specifying each char and it's replacement:\n",
    "df[cols] = df[cols].replace({'\\$': '', ',': ''}, regex=True)\n",
    "df[cols] = df[cols].astype('float64')\n",
    "# Display the first few rows\n",
    "print(df.head())\n",
    "\n",
    "# Feature engineering: use historical prices to predict future prices\n",
    "df['Target'] = df['Close'].shift(-1)  # Predict the next day's closing price\n",
    "\n",
    "# Drop rows with NaN values (from shifting)\n",
    "df.dropna(inplace=True)\n",
    "\n",
    "# Select features and target\n",
    "features = df[['Close']].values\n",
    "target = df['Target'].values\n",
    "\n",
    "# Scale features\n",
    "scaler = MinMaxScaler()\n",
    "features_scaled = scaler.fit_transform(features)\n",
    "\n",
    "\n",
    "# Create sequences for LSTM input\n",
    "def create_sequences(data, target, seq_length):\n",
    "    X, y = [], []\n",
    "    for i in range(len(data) - seq_length):\n",
    "        X.append(data[i:i + seq_length])\n",
    "        y.append(target[i + seq_length])\n",
    "    return np.array(X), np.array(y)\n",
    "\n",
    "# Parameters\n",
    "SEQ_LENGTH = 10\n",
    "\n",
    "X, y = create_sequences(features_scaled, target, SEQ_LENGTH)\n",
    "\n",
    "# Split into training and test sets\n",
    "# Define the LSTM model\n",
    "model = Sequential([\n",
    "    LSTM(50, activation='tanh', return_sequences=True, input_shape=(SEQ_LENGTH, 1)),\n",
    "    Dropout(0.2),\n",
    "    LSTM(50, activation='tanh'),\n",
    "    Dropout(0.2),\n",
    "    Dense(1)\n",
    "])\n",
    "\n",
    "# Compile the model\n",
    "model.compile(optimizer='adam', loss='mse')\n",
    "\n",
    "# Train the model\n",
    "history = model.fit(X, y, epochs=30, batch_size=32, validation_split=0.2)\n",
    "\n",
    "# Save the model\n",
    "model.save('stock_predictor_model.h5')\n",
    "\n",
    "# Make predictions\n",
    "predictions = model.predict(X)\n",
    "\n",
    "# Inverse transform the predictions and true values\n",
    "predictions = scaler.inverse_transform(predictions)\n",
    "y_true = scaler.inverse_transform(y.reshape(-1, 1))"
   ],
   "id": "c27c12e815b85155",
   "outputs": [
    {
     "name": "stdout",
     "output_type": "stream",
     "text": [
      "             Close     Volume     Open    High     Low\n",
      "Date                                                  \n",
      "2024-09-10  108.10  268283700  107.810  109.40  104.95\n",
      "2024-09-09  106.47  273912000  104.880  106.55  103.69\n",
      "2024-09-06  102.83  413638100  108.040  108.15  100.95\n",
      "2024-09-05  107.21  306850700  104.985  109.65  104.76\n",
      "2024-09-04  106.21  372470300  105.410  113.27  104.12\n",
      "Epoch 1/30\n",
      "63/63 [==============================] - 4s 16ms/step - loss: 894.6097 - val_loss: 111.1906\n",
      "Epoch 2/30\n",
      "63/63 [==============================] - 0s 8ms/step - loss: 724.6427 - val_loss: 180.2068\n",
      "Epoch 3/30\n",
      "63/63 [==============================] - 0s 8ms/step - loss: 685.0481 - val_loss: 7.7144\n",
      "Epoch 4/30\n",
      "63/63 [==============================] - 1s 8ms/step - loss: 592.2144 - val_loss: 1.3589\n",
      "Epoch 5/30\n",
      "63/63 [==============================] - 1s 8ms/step - loss: 539.7464 - val_loss: 1.4549\n",
      "Epoch 6/30\n",
      "63/63 [==============================] - 1s 8ms/step - loss: 497.2854 - val_loss: 2.5643\n",
      "Epoch 7/30\n",
      "63/63 [==============================] - 1s 8ms/step - loss: 460.0879 - val_loss: 2.9469\n",
      "Epoch 8/30\n",
      "63/63 [==============================] - 1s 8ms/step - loss: 427.7162 - val_loss: 1.1470\n",
      "Epoch 9/30\n",
      "63/63 [==============================] - 1s 8ms/step - loss: 399.4414 - val_loss: 1.4004\n",
      "Epoch 10/30\n",
      "63/63 [==============================] - 1s 8ms/step - loss: 370.9071 - val_loss: 3.0829\n",
      "Epoch 11/30\n",
      "63/63 [==============================] - 1s 9ms/step - loss: 343.4922 - val_loss: 2.8204\n",
      "Epoch 12/30\n",
      "63/63 [==============================] - 1s 9ms/step - loss: 322.9350 - val_loss: 0.7556\n",
      "Epoch 13/30\n",
      "63/63 [==============================] - 1s 9ms/step - loss: 304.1599 - val_loss: 1.6236\n",
      "Epoch 14/30\n",
      "63/63 [==============================] - 1s 10ms/step - loss: 283.4423 - val_loss: 1.0675\n",
      "Epoch 15/30\n",
      "63/63 [==============================] - 1s 9ms/step - loss: 271.6963 - val_loss: 2.2832\n",
      "Epoch 16/30\n",
      "63/63 [==============================] - 1s 9ms/step - loss: 256.1078 - val_loss: 1.4464\n",
      "Epoch 17/30\n",
      "63/63 [==============================] - 1s 9ms/step - loss: 243.3117 - val_loss: 2.0028\n",
      "Epoch 18/30\n",
      "63/63 [==============================] - 1s 9ms/step - loss: 227.0271 - val_loss: 1.1093\n",
      "Epoch 19/30\n",
      "63/63 [==============================] - 1s 10ms/step - loss: 213.8204 - val_loss: 0.9929\n",
      "Epoch 20/30\n",
      "63/63 [==============================] - 1s 9ms/step - loss: 204.5281 - val_loss: 1.2661\n",
      "Epoch 21/30\n",
      "63/63 [==============================] - 1s 10ms/step - loss: 192.2633 - val_loss: 1.5132\n",
      "Epoch 22/30\n",
      "63/63 [==============================] - 1s 9ms/step - loss: 178.6920 - val_loss: 0.9489\n",
      "Epoch 23/30\n",
      "63/63 [==============================] - 1s 9ms/step - loss: 171.4945 - val_loss: 3.2024\n",
      "Epoch 24/30\n",
      "63/63 [==============================] - 1s 8ms/step - loss: 159.2777 - val_loss: 1.1443\n",
      "Epoch 25/30\n",
      "63/63 [==============================] - 1s 8ms/step - loss: 155.7138 - val_loss: 0.3828\n",
      "Epoch 26/30\n",
      "63/63 [==============================] - 1s 8ms/step - loss: 145.1797 - val_loss: 2.2406\n",
      "Epoch 27/30\n",
      "63/63 [==============================] - 1s 9ms/step - loss: 135.6414 - val_loss: 0.1916\n",
      "Epoch 28/30\n",
      "63/63 [==============================] - 1s 9ms/step - loss: 133.7951 - val_loss: 1.4334\n",
      "Epoch 29/30\n",
      "63/63 [==============================] - 1s 9ms/step - loss: 123.1484 - val_loss: 0.5941\n",
      "Epoch 30/30\n",
      "63/63 [==============================] - 1s 8ms/step - loss: 116.1050 - val_loss: 0.2947\n"
     ]
    },
    {
     "name": "stderr",
     "output_type": "stream",
     "text": [
      "C:\\Users\\Konstantinos\\anaconda3\\lib\\site-packages\\keras\\src\\engine\\training.py:3000: UserWarning: You are saving your model as an HDF5 file via `model.save()`. This file format is considered legacy. We recommend using instead the native Keras format, e.g. `model.save('my_model.keras')`.\n",
      "  saving_api.save_model(\n"
     ]
    },
    {
     "name": "stdout",
     "output_type": "stream",
     "text": [
      "79/79 [==============================] - 1s 4ms/step\n"
     ]
    }
   ],
   "execution_count": 42
  },
  {
   "metadata": {
    "ExecuteTime": {
     "end_time": "2024-09-12T13:46:07.654911Z",
     "start_time": "2024-09-12T13:46:07.144985Z"
    }
   },
   "cell_type": "code",
   "source": [
    "# Plot results\n",
    "plt.figure(figsize=(12, 6))\n",
    "plt.plot(df.index[SEQ_LENGTH:], y_true, label='Actual Prices')\n",
    "plt.plot(df.index[SEQ_LENGTH:], predictions, label='Predicted Prices', linestyle='--')\n",
    "plt.xlabel('Date')\n",
    "plt.ylabel('Stock Price')\n",
    "plt.title('Stock Price Prediction')\n",
    "plt.legend()\n",
    "plt.show()"
   ],
   "id": "9e5a5ade9fb73f2c",
   "outputs": [
    {
     "data": {
      "text/plain": [
       "<Figure size 864x432 with 1 Axes>"
      ],
      "image/png": "[encoded data removed]"
     },
     "metadata": {
      "needs_background": "light"
     },
     "output_type": "display_data"
    }
   ],
   "execution_count": 43
  }
 ],
 "metadata": {
  "kernelspec": {
   "display_name": "Python 3",
   "language": "python",
   "name": "python3"
  },
  "language_info": {
   "codemirror_mode": {
    "name": "ipython",
    "version": 2
   },
   "file_extension": ".py",
   "mimetype": "text/x-python",
   "name": "python",
   "nbconvert_exporter": "python",
   "pygments_lexer": "ipython2",
   "version": "2.7.6"
  }
 },
 "nbformat": 4,
 "nbformat_minor": 5
}
